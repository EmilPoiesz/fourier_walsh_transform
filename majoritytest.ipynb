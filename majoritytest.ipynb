{
 "cells": [
  {
   "cell_type": "code",
   "execution_count": 74,
   "metadata": {},
   "outputs": [],
   "source": [
    "import numpy as np\n",
    "import itertools as tools\n",
    "\n",
    "def fourer_walsh_transform(X):\n",
    "    assert type(X) == list\n",
    "    assert len(X) % 2 == 1\n",
    "    for e in X:\n",
    "        assert e in [-1, 1]\n",
    "\n",
    "    n=len(X)\n",
    "    inputs = list(tools.product([1,-1], repeat=n))\n",
    "    bool_func_values = [boolean_function(list(input_values), n) for input_values in inputs]\n",
    "    coefficients = fourier_coefficients(n, inputs, bool_func_values)\n",
    "    \n",
    "    return calculate_fourier_welsh(coefficients, X)\n",
    "\n",
    "def boolean_function(x, n):\n",
    "        return 1 if sum(x) > 0 else -1\n",
    "\n",
    "def fourier_coefficients(n, inputs, bool_func_values):\n",
    "    coefficients = {}\n",
    "    for subset in tools.product([0,1], repeat=n):\n",
    "        subset = np.array(subset)\n",
    "        subset_products = np.prod(np.power(inputs, subset), axis=1)\n",
    "        coefficient = np.mean(subset_products * bool_func_values)\n",
    "        coefficients[tuple(subset)] = coefficient\n",
    "    return coefficients\n",
    "\n",
    "\n",
    "def calculate_fourier_welsh(coefficients, input):\n",
    "    value = 0\n",
    "    value_str = 'f(X) = '\n",
    "    for subset, coefficient in coefficients.items():\n",
    "        #is the subset product 1 of -1? \n",
    "        subset_prod = np.prod([input[i] if subset[i] == 1 else 1 for i in range(len(input))])\n",
    "        value += subset_prod * coefficient\n",
    "        if coefficient == 0.0: continue\n",
    "        if subset_prod == -1.0:\n",
    "            value_str += f'({subset_prod})*{coefficient} + '\n",
    "        else:\n",
    "            value_str += f'{subset_prod}*{coefficient} + '\n",
    "    value_str = value_str[:-3]\n",
    "    value_str += f' = {value}'\n",
    "    return value, value_str\n"
   ]
  },
  {
   "cell_type": "code",
   "execution_count": 75,
   "metadata": {},
   "outputs": [
    {
     "name": "stdout",
     "output_type": "stream",
     "text": [
      "f(X) = 1*0.375 + 1*0.375 + (-1)*0.375 + (-1)*-0.125 + (-1)*0.375 + (-1)*-0.125 + 1*-0.125 + 1*-0.125 + (-1)*0.375 + (-1)*-0.125 + 1*-0.125 + 1*-0.125 + 1*-0.125 + 1*-0.125 + (-1)*-0.125 + (-1)*0.375 = -1.0\n"
     ]
    }
   ],
   "source": [
    "value, value_str = fourer_walsh_transform([-1,-1,-1,1,1])\n",
    "print(value_str)"
   ]
  },
  {
   "cell_type": "code",
   "execution_count": 89,
   "metadata": {},
   "outputs": [],
   "source": [
    "v = [1,9,1,9]\n",
    "v_set = set(v)\n",
    "v_set_list = list(v_set)"
   ]
  },
  {
   "cell_type": "code",
   "execution_count": 90,
   "metadata": {},
   "outputs": [
    {
     "data": {
      "text/plain": [
       "[1, 9]"
      ]
     },
     "execution_count": 90,
     "metadata": {},
     "output_type": "execute_result"
    }
   ],
   "source": [
    "v_set_list"
   ]
  },
  {
   "cell_type": "code",
   "execution_count": null,
   "metadata": {},
   "outputs": [],
   "source": []
  }
 ],
 "metadata": {
  "kernelspec": {
   "display_name": "inf265",
   "language": "python",
   "name": "python3"
  },
  "language_info": {
   "codemirror_mode": {
    "name": "ipython",
    "version": 3
   },
   "file_extension": ".py",
   "mimetype": "text/x-python",
   "name": "python",
   "nbconvert_exporter": "python",
   "pygments_lexer": "ipython3",
   "version": "3.10.9"
  }
 },
 "nbformat": 4,
 "nbformat_minor": 2
}
